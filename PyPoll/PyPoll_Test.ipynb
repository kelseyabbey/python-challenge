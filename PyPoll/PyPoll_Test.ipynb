{
 "cells": [
  {
   "cell_type": "code",
   "execution_count": null,
   "id": "51770aeb",
   "metadata": {},
   "outputs": [],
   "source": [
    "import pandas as pd\n",
    "import os\n",
    "import csv"
   ]
  },
  {
   "cell_type": "code",
   "execution_count": null,
   "id": "dd63907f",
   "metadata": {},
   "outputs": [],
   "source": [
    "#read csv\n",
    "file = os.path.join(r\"/Users/kelseyabbey/Documents/Data Analytics/Module 3 Challenge/python-challenge/PyPoll/Resources/election_data.csv\")\n",
    "#import csv file as dataframe\n",
    "pypoll = pd.read_csv(file, encoding = \"utf8\")"
   ]
  },
  {
   "cell_type": "code",
   "execution_count": null,
   "id": "97877c09",
   "metadata": {},
   "outputs": [],
   "source": [
    "#total votes\n",
    "total_votes = len(pypoll)"
   ]
  },
  {
   "cell_type": "code",
   "execution_count": null,
   "id": "10519ac8",
   "metadata": {},
   "outputs": [],
   "source": [
    "#candidate names and counters\n",
    "candidate1 = \"Charles Casper Stockham\"\n",
    "candidate2 = \"Diana DeGette\"\n",
    "candidate3 = \"Raymon Anthony Doane\"\n",
    "charlescount = 0\n",
    "dianacount = 0\n",
    "raymoncount = 0"
   ]
  },
  {
   "cell_type": "code",
   "execution_count": null,
   "id": "b5dff30c",
   "metadata": {},
   "outputs": [],
   "source": [
    "#variable for vote count\n",
    "vote_count = pypoll[\"Ballot ID\"]"
   ]
  },
  {
   "cell_type": "code",
   "execution_count": null,
   "id": "584ebd8a",
   "metadata": {},
   "outputs": [],
   "source": [
    "#loop to add to vote count\n",
    "for index, row in enumerate(vote_count):\n",
    "    if pypoll[\"Candidate\"][index] == candidate1:\n",
    "        charlescount += 1\n",
    "    elif pypoll[\"Candidate\"][index] == candidate2:\n",
    "        dianacount += 1\n",
    "    elif pypoll[\"Candidate\"][index] == candidate3:\n",
    "        raymoncount += 1"
   ]
  },
  {
   "cell_type": "code",
   "execution_count": null,
   "id": "17692f77",
   "metadata": {},
   "outputs": [],
   "source": [
    "#percentage votes per candidate\n",
    "candidate1_percent = round((charlescount/total_votes) * 100, 3)\n",
    "candidate2_percent = round((dianacount/total_votes) * 100, 3)\n",
    "candidate3_percent = round((raymoncount/total_votes) * 100, 3)"
   ]
  },
  {
   "cell_type": "code",
   "execution_count": null,
   "id": "4477521b",
   "metadata": {},
   "outputs": [],
   "source": [
    "#winner\n",
    "if charlescount > dianacount and charlescount > raymoncount:\n",
    "    winner = candidate1\n",
    "elif dianacount > charlescount and dianacount > raymoncount:\n",
    "    winner = candidate2\n",
    "elif raymoncount > charlescount and raymoncount > dianacount:\n",
    "    winner = candidate3\n",
    "else:\n",
    "    winner = \"There's a tie!\""
   ]
  },
  {
   "cell_type": "code",
   "execution_count": null,
   "id": "fd65b2b4",
   "metadata": {},
   "outputs": [],
   "source": [
    "#output to text file for both read/write\n",
    "output = os.path.join(r\"/Users/kelseyabbey/Documents/Data Analytics/Module 3 Challenge/python-challenge/PyPoll/Analysis/Election_Results.txt\")\n",
    "with open(output,\"w+\") as text:\n",
    "    text.write(f\"\\nElection Results \\n---------------\\n\")\n",
    "    text.write(f\"Total Votes: {total_votes}\\n---------------\\n\")\n",
    "    text.write(f\"{candidate1}: {candidate1_percent}% ({charlescount})\\n\")\n",
    "    text.write(f\"{candidate2}: {candidate2_percent}% ({dianacount})\\n\")\n",
    "    text.write(f\"{candidate3}: {candidate3_percent}% ({raymoncount})\\n---------------\\n\")\n",
    "    text.write(f\"Winner: {winner}\\n---------------\\n\")"
   ]
  },
  {
   "cell_type": "code",
   "execution_count": null,
   "id": "ab3b368c",
   "metadata": {},
   "outputs": [],
   "source": [
    "#print output to terminal\n",
    "print(f\"Election Results\")\n",
    "print(\"---------------\")\n",
    "print(f\"Total Votes: {total_votes}\")\n",
    "print(\"---------------\")\n",
    "print(f\"{candidate1}: {candidate1_percent}% ({charlescount})\")\n",
    "print(f\"{candidate2}: {candidate2_percent}% ({dianacount})\")\n",
    "print(f\"{candidate3}: {candidate3_percent}% ({raymoncount})\")\n",
    "print(\"---------------\")\n",
    "print(f\"Winner: {winner}\")\n",
    "print(\"---------------\")"
   ]
  }
 ],
 "metadata": {
  "kernelspec": {
   "display_name": "Python 3 (ipykernel)",
   "language": "python",
   "name": "python3"
  },
  "language_info": {
   "codemirror_mode": {
    "name": "ipython",
    "version": 3
   },
   "file_extension": ".py",
   "mimetype": "text/x-python",
   "name": "python",
   "nbconvert_exporter": "python",
   "pygments_lexer": "ipython3",
   "version": "3.9.13"
  }
 },
 "nbformat": 4,
 "nbformat_minor": 5
}
