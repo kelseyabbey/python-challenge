{
 "cells": [
  {
   "cell_type": "code",
   "execution_count": 10,
   "id": "671205f8",
   "metadata": {},
   "outputs": [],
   "source": [
    "#import dependencies\n",
    "import pandas as pd\n",
    "import csv\n",
    "import os"
   ]
  },
  {
   "cell_type": "code",
   "execution_count": 17,
   "id": "02222940",
   "metadata": {
    "scrolled": true
   },
   "outputs": [],
   "source": [
    "#read csv\n",
    "file = os.path.join(r\"/Users/kelseyabbey/Documents/Data Analytics/Module 3 Challenge/python-challenge/PyBank/Resources/budget_data.csv\")\n",
    "#import csv file as dataframe\n",
    "pybank = pd.read_csv(file, encoding = \"utf8\")"
   ]
  },
  {
   "cell_type": "code",
   "execution_count": 18,
   "id": "5cc249f9",
   "metadata": {},
   "outputs": [],
   "source": [
    "#headers: profit/loss & dates\n",
    "profit_loss = pybank[\"Profit/Losses\"]\n",
    "dates = pybank[\"Date\"]"
   ]
  },
  {
   "cell_type": "code",
   "execution_count": 19,
   "id": "6b815812",
   "metadata": {},
   "outputs": [],
   "source": [
    "#total months\n",
    "total_months = len(pybank)"
   ]
  },
  {
   "cell_type": "code",
   "execution_count": 20,
   "id": "6695db2a",
   "metadata": {},
   "outputs": [
    {
     "name": "stdout",
     "output_type": "stream",
     "text": [
      "22564198\n"
     ]
    }
   ],
   "source": [
    "#net total of profit/losses\n",
    "net_total = pybank_df[\"Profit/Losses\"].sum()\n",
    "print(net_total)"
   ]
  },
  {
   "cell_type": "code",
   "execution_count": 21,
   "id": "2927f060",
   "metadata": {},
   "outputs": [],
   "source": [
    "#average change\n",
    "average_change = (profit_loss[total_months - 1]- profit_loss[0]) / (total_months - 1)"
   ]
  },
  {
   "cell_type": "code",
   "execution_count": 22,
   "id": "3035b56a",
   "metadata": {},
   "outputs": [],
   "source": [
    "#average changes in profit/losses\n",
    "#greatest profit increase\n",
    "#greatest profit decrease\n",
    "#set variables\n",
    "greatest_increase = 0\n",
    "greatest_decrease = 0\n",
    "\n",
    "for index,nums in enumerate(profit_loss):\n",
    "    \n",
    "    if index < total_months - 1:\n",
    "        #month to month difference\n",
    "        difference = profit_loss[index + 1] - profit_loss[index]\n",
    "\n",
    "        #greatest increase/decrease with month and amount\n",
    "        if difference > greatest_increase:\n",
    "            greatest_increase = difference\n",
    "            date_on_increase = dates[index + 1]\n",
    "\n",
    "        elif difference < greatest_decrease:\n",
    "            greatest_decrease = difference\n",
    "            date_on_decrease = dates[index + 1]\n",
    "\n",
    "    #for last index\n",
    "    else:\n",
    "        difference = profit_loss[index] - profit_loss[index - 1]\n",
    "\n",
    "        if difference < greatest_decrease:\n",
    "            greatest_decrease = difference\n",
    "            date_on_decrease = dates[index + 1]\n",
    "        elif difference > greatest_increase:\n",
    "            greatest_increase = difference\n",
    "            date_on_increase = dates[index + 1]\n"
   ]
  },
  {
   "cell_type": "code",
   "execution_count": null,
   "id": "fee9b95c",
   "metadata": {},
   "outputs": [],
   "source": [
    "#output to text file for both read/write\n",
    "output = os.path.join(\"Analysis\",\"Finalcial_Analysis.txt\")\n",
    "with open(output,\"w+\") as text:\n",
    "    text.write(f\"\\nFinancial Analysis \\n---------------\\n\")\n",
    "    text.write(f\"Total Months: {total_months}\\n\")\n",
    "    text.write(f\"Net Total: ${net_total:,}\\n\")\n",
    "    text.write(f\"Average Change:: ${average_change:,}\\n\")\n",
    "    text.write(f\"Greatest Increase: {date_on_increase} (${greatest_increase:,})\\n\")\n",
    "    text.write(f\"Greatest Decrease: {date_on_decrease} (${greatest_decrease:,})\\n---------------\\n\")"
   ]
  },
  {
   "cell_type": "code",
   "execution_count": null,
   "id": "e049c067",
   "metadata": {},
   "outputs": [],
   "source": [
    "#print output to terminal\n",
    "    print(f\"Financial Analysis\")\n",
    "    print(\"---------------\")\n",
    "    print(f\"Total Months: {total_months}\")\n",
    "    print(f\"Net Total: ${net_total:,}\")\n",
    "    print(f\"Average Change:: ${average_change:,}\")\n",
    "    print(f\"Greatest Increase: {date_on_increase} (${greatest_increase:,})\")\n",
    "    print(f\"Greatest Decrease: {date_on_decrease} (${greatest_decrease:,})\")\n",
    "    print(\"---------------\")"
   ]
  }
 ],
 "metadata": {
  "kernelspec": {
   "display_name": "Python 3",
   "language": "python",
   "name": "python3"
  },
  "language_info": {
   "codemirror_mode": {
    "name": "ipython",
    "version": 3
   },
   "file_extension": ".py",
   "mimetype": "text/x-python",
   "name": "python",
   "nbconvert_exporter": "python",
   "pygments_lexer": "ipython3",
   "version": "3.9.6"
  },
  "vscode": {
   "interpreter": {
    "hash": "31f2aee4e71d21fbe5cf8b01ff0e069b9275f58929596ceb00d14d90e3e16cd6"
   }
  }
 },
 "nbformat": 4,
 "nbformat_minor": 5
}
